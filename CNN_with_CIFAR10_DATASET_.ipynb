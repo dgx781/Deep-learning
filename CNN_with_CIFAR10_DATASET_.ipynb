{
  "nbformat": 4,
  "nbformat_minor": 0,
  "metadata": {
    "colab": {
      "provenance": [],
      "gpuType": "T4",
      "authorship_tag": "ABX9TyNKXZfavOIsQzYpJjn+vGL9",
      "include_colab_link": true
    },
    "kernelspec": {
      "name": "python3",
      "display_name": "Python 3"
    },
    "language_info": {
      "name": "python"
    }
  },
  "cells": [
    {
      "cell_type": "markdown",
      "metadata": {
        "id": "view-in-github",
        "colab_type": "text"
      },
      "source": [
        "<a href=\"https://colab.research.google.com/github/dgx781/Deep-learning/blob/DataScience-Ocean/CNN_with_CIFAR10_DATASET_.ipynb\" target=\"_parent\"><img src=\"https://colab.research.google.com/assets/colab-badge.svg\" alt=\"Open In Colab\"/></a>"
      ]
    },
    {
      "cell_type": "code",
      "execution_count": 72,
      "metadata": {
        "id": "dwiyqUC_2d9T"
      },
      "outputs": [],
      "source": [
        "import numpy as np\n",
        "import pandas as pd\n",
        "import matplotlib.pyplot as plt\n",
        "%matplotlib inline\n",
        "import warnings\n",
        "warnings.filterwarnings(action='ignore')"
      ]
    },
    {
      "cell_type": "code",
      "source": [
        "import tensorflow as tf\n",
        "from tensorflow import keras"
      ],
      "metadata": {
        "id": "v800sjAq_Euf"
      },
      "execution_count": 73,
      "outputs": []
    },
    {
      "cell_type": "code",
      "source": [
        "(x_train, y_train), (x_test, y_test)= keras.datasets.cifar10.load_data()\n",
        "x_train.shape"
      ],
      "metadata": {
        "colab": {
          "base_uri": "https://localhost:8080/"
        },
        "id": "6fffgx81_LA9",
        "outputId": "dbc5342a-1a2c-4b5a-949c-4e50a7da0de8"
      },
      "execution_count": 74,
      "outputs": [
        {
          "output_type": "execute_result",
          "data": {
            "text/plain": [
              "(50000, 32, 32, 3)"
            ]
          },
          "metadata": {},
          "execution_count": 74
        }
      ]
    },
    {
      "cell_type": "code",
      "source": [
        "x_test.shape"
      ],
      "metadata": {
        "colab": {
          "base_uri": "https://localhost:8080/"
        },
        "id": "ALY5wtLz_3qu",
        "outputId": "c25371bd-ba33-4d31-8974-2365229cc439"
      },
      "execution_count": 75,
      "outputs": [
        {
          "output_type": "execute_result",
          "data": {
            "text/plain": [
              "(10000, 32, 32, 3)"
            ]
          },
          "metadata": {},
          "execution_count": 75
        }
      ]
    },
    {
      "cell_type": "code",
      "source": [
        "y_train.shape"
      ],
      "metadata": {
        "colab": {
          "base_uri": "https://localhost:8080/"
        },
        "id": "93pzAQUlCQHN",
        "outputId": "745e3c4a-4dda-4a82-9677-cb721a6483dc"
      },
      "execution_count": 76,
      "outputs": [
        {
          "output_type": "execute_result",
          "data": {
            "text/plain": [
              "(50000, 1)"
            ]
          },
          "metadata": {},
          "execution_count": 76
        }
      ]
    },
    {
      "cell_type": "code",
      "source": [
        "y_train[:5]"
      ],
      "metadata": {
        "colab": {
          "base_uri": "https://localhost:8080/"
        },
        "id": "eWiMY41bCS5C",
        "outputId": "5f8fa374-603e-49a2-a8a5-fe4f7dcea0f1"
      },
      "execution_count": 77,
      "outputs": [
        {
          "output_type": "execute_result",
          "data": {
            "text/plain": [
              "array([[6],\n",
              "       [9],\n",
              "       [9],\n",
              "       [4],\n",
              "       [1]], dtype=uint8)"
            ]
          },
          "metadata": {},
          "execution_count": 77
        }
      ]
    },
    {
      "cell_type": "code",
      "source": [
        "y_train= y_train.reshape(-1,)\n",
        "y_train[:5]"
      ],
      "metadata": {
        "colab": {
          "base_uri": "https://localhost:8080/"
        },
        "id": "ggwyhS6DCvcG",
        "outputId": "a4da5f36-b38d-45f4-ad8a-1d758e05d9c9"
      },
      "execution_count": 78,
      "outputs": [
        {
          "output_type": "execute_result",
          "data": {
            "text/plain": [
              "array([6, 9, 9, 4, 1], dtype=uint8)"
            ]
          },
          "metadata": {},
          "execution_count": 78
        }
      ]
    },
    {
      "cell_type": "code",
      "source": [
        "x_train[0]"
      ],
      "metadata": {
        "colab": {
          "base_uri": "https://localhost:8080/"
        },
        "id": "C8s06K8E_5zy",
        "outputId": "40f851e5-b4ba-4c1b-dd5a-6688408a6584"
      },
      "execution_count": 79,
      "outputs": [
        {
          "output_type": "execute_result",
          "data": {
            "text/plain": [
              "array([[[ 59,  62,  63],\n",
              "        [ 43,  46,  45],\n",
              "        [ 50,  48,  43],\n",
              "        ...,\n",
              "        [158, 132, 108],\n",
              "        [152, 125, 102],\n",
              "        [148, 124, 103]],\n",
              "\n",
              "       [[ 16,  20,  20],\n",
              "        [  0,   0,   0],\n",
              "        [ 18,   8,   0],\n",
              "        ...,\n",
              "        [123,  88,  55],\n",
              "        [119,  83,  50],\n",
              "        [122,  87,  57]],\n",
              "\n",
              "       [[ 25,  24,  21],\n",
              "        [ 16,   7,   0],\n",
              "        [ 49,  27,   8],\n",
              "        ...,\n",
              "        [118,  84,  50],\n",
              "        [120,  84,  50],\n",
              "        [109,  73,  42]],\n",
              "\n",
              "       ...,\n",
              "\n",
              "       [[208, 170,  96],\n",
              "        [201, 153,  34],\n",
              "        [198, 161,  26],\n",
              "        ...,\n",
              "        [160, 133,  70],\n",
              "        [ 56,  31,   7],\n",
              "        [ 53,  34,  20]],\n",
              "\n",
              "       [[180, 139,  96],\n",
              "        [173, 123,  42],\n",
              "        [186, 144,  30],\n",
              "        ...,\n",
              "        [184, 148,  94],\n",
              "        [ 97,  62,  34],\n",
              "        [ 83,  53,  34]],\n",
              "\n",
              "       [[177, 144, 116],\n",
              "        [168, 129,  94],\n",
              "        [179, 142,  87],\n",
              "        ...,\n",
              "        [216, 184, 140],\n",
              "        [151, 118,  84],\n",
              "        [123,  92,  72]]], dtype=uint8)"
            ]
          },
          "metadata": {},
          "execution_count": 79
        }
      ]
    },
    {
      "cell_type": "code",
      "source": [
        "x_train[0][0]"
      ],
      "metadata": {
        "colab": {
          "base_uri": "https://localhost:8080/"
        },
        "id": "19Tf96ZpAPV1",
        "outputId": "30efe8dd-1683-4496-bd8c-83a3c34014ec"
      },
      "execution_count": 80,
      "outputs": [
        {
          "output_type": "execute_result",
          "data": {
            "text/plain": [
              "array([[ 59,  62,  63],\n",
              "       [ 43,  46,  45],\n",
              "       [ 50,  48,  43],\n",
              "       [ 68,  54,  42],\n",
              "       [ 98,  73,  52],\n",
              "       [119,  91,  63],\n",
              "       [139, 107,  75],\n",
              "       [145, 110,  80],\n",
              "       [149, 117,  89],\n",
              "       [149, 120,  93],\n",
              "       [131, 103,  77],\n",
              "       [125,  99,  76],\n",
              "       [142, 115,  91],\n",
              "       [144, 112,  86],\n",
              "       [137, 105,  79],\n",
              "       [129,  97,  71],\n",
              "       [137, 106,  79],\n",
              "       [134, 106,  76],\n",
              "       [124,  97,  64],\n",
              "       [139, 113,  78],\n",
              "       [139, 112,  75],\n",
              "       [133, 105,  69],\n",
              "       [136, 105,  74],\n",
              "       [139, 108,  77],\n",
              "       [152, 120,  89],\n",
              "       [163, 131, 100],\n",
              "       [168, 136, 108],\n",
              "       [159, 129, 102],\n",
              "       [158, 130, 104],\n",
              "       [158, 132, 108],\n",
              "       [152, 125, 102],\n",
              "       [148, 124, 103]], dtype=uint8)"
            ]
          },
          "metadata": {},
          "execution_count": 80
        }
      ]
    },
    {
      "cell_type": "code",
      "source": [
        "plt.style.use('dark_background')\n",
        "plt.figure(figsize=(15,2))\n",
        "plt.imshow(x_train[0])"
      ],
      "metadata": {
        "colab": {
          "base_uri": "https://localhost:8080/",
          "height": 235
        },
        "id": "peOcqdtOASa3",
        "outputId": "fcd6b868-32ce-4af8-d597-34cd30158ad2"
      },
      "execution_count": 81,
      "outputs": [
        {
          "output_type": "execute_result",
          "data": {
            "text/plain": [
              "<matplotlib.image.AxesImage at 0x7c68a37fb610>"
            ]
          },
          "metadata": {},
          "execution_count": 81
        },
        {
          "output_type": "display_data",
          "data": {
            "text/plain": [
              "<Figure size 1500x200 with 1 Axes>"
            ],
            "image/png": "[encoded data removed]"
          },
          "metadata": {}
        }
      ]
    },
    {
      "cell_type": "code",
      "source": [
        "plt.figure(figsize=(15,2))\n",
        "plt.imshow(x_train[1])"
      ],
      "metadata": {
        "colab": {
          "base_uri": "https://localhost:8080/",
          "height": 235
        },
        "id": "MNENcxDBAfw_",
        "outputId": "e577d3dc-2c72-4dc7-a6e6-813538df3525"
      },
      "execution_count": 82,
      "outputs": [
        {
          "output_type": "execute_result",
          "data": {
            "text/plain": [
              "<matplotlib.image.AxesImage at 0x7c6899b7aad0>"
            ]
          },
          "metadata": {},
          "execution_count": 82
        },
        {
          "output_type": "display_data",
          "data": {
            "text/plain": [
              "<Figure size 1500x200 with 1 Axes>"
            ],
            "image/png": "[encoded data removed]"
          },
          "metadata": {}
        }
      ]
    },
    {
      "cell_type": "code",
      "source": [
        "classes= ['airplane', 'automobile', 'bird', 'cat', 'deer', 'dog', 'frog', 'horses', 'ship', 'truck']"
      ],
      "metadata": {
        "id": "jg1x0n_wBlIB"
      },
      "execution_count": 83,
      "outputs": []
    },
    {
      "cell_type": "code",
      "source": [
        "classes[9]"
      ],
      "metadata": {
        "colab": {
          "base_uri": "https://localhost:8080/",
          "height": 35
        },
        "id": "NbckegFIDONR",
        "outputId": "1b309d04-7381-457e-9086-3263593f78c8"
      },
      "execution_count": 84,
      "outputs": [
        {
          "output_type": "execute_result",
          "data": {
            "text/plain": [
              "'truck'"
            ],
            "application/vnd.google.colaboratory.intrinsic+json": {
              "type": "string"
            }
          },
          "metadata": {},
          "execution_count": 84
        }
      ]
    },
    {
      "cell_type": "code",
      "source": [
        "def plot_sample(x, y, index):\n",
        "  plt.figure(figsize=(15,2))\n",
        "  plt.imshow(x[index])\n",
        "  plt.xlabel(classes[y[index]])"
      ],
      "metadata": {
        "id": "_W3RL0W7A0fH"
      },
      "execution_count": 85,
      "outputs": []
    },
    {
      "cell_type": "code",
      "source": [
        "classes[y_train[6]]"
      ],
      "metadata": {
        "colab": {
          "base_uri": "https://localhost:8080/",
          "height": 35
        },
        "id": "DCuYvVMSDzNH",
        "outputId": "9d2deda4-3963-4ea4-d199-640f55310527"
      },
      "execution_count": 86,
      "outputs": [
        {
          "output_type": "execute_result",
          "data": {
            "text/plain": [
              "'bird'"
            ],
            "application/vnd.google.colaboratory.intrinsic+json": {
              "type": "string"
            }
          },
          "metadata": {},
          "execution_count": 86
        }
      ]
    },
    {
      "cell_type": "code",
      "source": [
        "plot_sample(x_train, y_train, 0)"
      ],
      "metadata": {
        "colab": {
          "base_uri": "https://localhost:8080/",
          "height": 237
        },
        "id": "6bJ2S3OwDkFk",
        "outputId": "9dcb0c24-d67c-4069-d2a8-1d4efbe1690b"
      },
      "execution_count": 87,
      "outputs": [
        {
          "output_type": "display_data",
          "data": {
            "text/plain": [
              "<Figure size 1500x200 with 1 Axes>"
            ],
            "image/png": "[encoded data removed]"
          },
          "metadata": {}
        }
      ]
    },
    {
      "cell_type": "code",
      "source": [
        "plot_sample(x_train, y_train, 6)"
      ],
      "metadata": {
        "colab": {
          "base_uri": "https://localhost:8080/",
          "height": 237
        },
        "id": "d9N0ekNvEC0h",
        "outputId": "2f9c8d9b-bcad-4ebd-87de-54f4ecfee2bb"
      },
      "execution_count": 88,
      "outputs": [
        {
          "output_type": "display_data",
          "data": {
            "text/plain": [
              "<Figure size 1500x200 with 1 Axes>"
            ],
            "image/png": "[encoded data removed]"
          },
          "metadata": {}
        }
      ]
    },
    {
      "cell_type": "code",
      "source": [
        "x_train= x_train/255\n",
        "x_test= x_test/255"
      ],
      "metadata": {
        "id": "0K7ecqbPEIqS"
      },
      "execution_count": 89,
      "outputs": []
    },
    {
      "cell_type": "markdown",
      "source": [
        "## **`Creating Artificial Neural Network for testing the accuracy`**"
      ],
      "metadata": {
        "id": "psHxJdNlFF_7"
      }
    },
    {
      "cell_type": "code",
      "source": [
        "ann= keras.Sequential([\n",
        "    keras.layers.Flatten(input_shape=(32,32,3)),\n",
        "    keras.layers.Dense(3000, activation='relu'),\n",
        "    keras.layers.Dense(1000, activation='relu'),\n",
        "    keras.layers.Dense(10, activation='sigmoid')\n",
        "])"
      ],
      "metadata": {
        "id": "VK4MhgINHZW5"
      },
      "execution_count": 90,
      "outputs": []
    },
    {
      "cell_type": "code",
      "source": [
        "ann.compile(optimizer='SGD',\n",
        "    loss='sparse_categorical_crossentropy',\n",
        "    metrics=['accuracy'])\n",
        "ann.fit(x_train, y_train, epochs=5)"
      ],
      "metadata": {
        "id": "902gW1c9JKGI"
      },
      "execution_count": null,
      "outputs": []
    },
    {
      "cell_type": "code",
      "source": [
        "ann.evaluate(x_test, y_test)"
      ],
      "metadata": {
        "id": "OZ8_KXPQMkLP"
      },
      "execution_count": null,
      "outputs": []
    },
    {
      "cell_type": "code",
      "source": [
        "from sklearn.metrics import classification_report\n",
        "y_pred= ann.predict(x_test)\n",
        "Y_pred_classes= [np.argmax(element) for element in y_pred]"
      ],
      "metadata": {
        "id": "vi9ekUiXM2RZ"
      },
      "execution_count": null,
      "outputs": []
    },
    {
      "cell_type": "code",
      "source": [
        "print('classification_report:\\n', classification_report(y_test, Y_pred_classes))"
      ],
      "metadata": {
        "id": "ErQZpYK7Np-U"
      },
      "execution_count": null,
      "outputs": []
    },
    {
      "cell_type": "markdown",
      "source": [
        "#Creating Convolutional Neural Network\n",
        "\n",
        "```\n",
        "# This is formatted as code\n",
        "```\n",
        "\n"
      ],
      "metadata": {
        "id": "FLkzw-8BPDq3"
      }
    },
    {
      "cell_type": "markdown",
      "source": [
        "##Using Optimizer SGD"
      ],
      "metadata": {
        "id": "gsvcyumhcebc"
      }
    },
    {
      "cell_type": "code",
      "source": [
        "cnn= keras.Sequential([\n",
        "    keras.layers.Conv2D(filters=32, kernel_size=(3,3), activation='relu', input_shape=(32,32,3)),\n",
        "    keras.layers.MaxPooling2D((2,2)),\n",
        "    keras.layers.Conv2D(filters=32, kernel_size=(3,3), activation='relu', input_shape=(32,32,3)),\n",
        "    keras.layers.MaxPooling2D((2,2)),\n",
        "    keras.layers.Flatten(),\n",
        "    keras.layers.Dense(64, activation='relu'),\n",
        "    keras.layers.Dense(10, activation='softmax')\n",
        "])"
      ],
      "metadata": {
        "id": "PZPEGQWCOecu"
      },
      "execution_count": null,
      "outputs": []
    },
    {
      "cell_type": "code",
      "source": [
        "cnn.compile(optimizer='SGD',\n",
        "    loss='sparse_categorical_crossentropy',\n",
        "    metrics=['accuracy'])"
      ],
      "metadata": {
        "id": "xy57Ny6sQ3G1"
      },
      "execution_count": 96,
      "outputs": []
    },
    {
      "cell_type": "code",
      "source": [
        "cnn.fit(x_train, y_train, epochs=10)"
      ],
      "metadata": {
        "colab": {
          "base_uri": "https://localhost:8080/"
        },
        "id": "MCsBvRU6UGp8",
        "outputId": "b64c0001-f2ad-4f66-97a6-8eec43377908"
      },
      "execution_count": 97,
      "outputs": [
        {
          "output_type": "stream",
          "name": "stdout",
          "text": [
            "Epoch 1/10\n",
            "1563/1563 [==============================] - 72s 45ms/step - loss: 1.9997 - accuracy: 0.2765\n",
            "Epoch 2/10\n",
            "1563/1563 [==============================] - 58s 37ms/step - loss: 1.6416 - accuracy: 0.4140\n",
            "Epoch 3/10\n",
            "1563/1563 [==============================] - 60s 38ms/step - loss: 1.4640 - accuracy: 0.4762\n",
            "Epoch 4/10\n",
            "1563/1563 [==============================] - 61s 39ms/step - loss: 1.3676 - accuracy: 0.5112\n",
            "Epoch 5/10\n",
            "1563/1563 [==============================] - 60s 39ms/step - loss: 1.2942 - accuracy: 0.5407\n",
            "Epoch 6/10\n",
            "1563/1563 [==============================] - 58s 37ms/step - loss: 1.2284 - accuracy: 0.5666\n",
            "Epoch 7/10\n",
            "1563/1563 [==============================] - 60s 38ms/step - loss: 1.1745 - accuracy: 0.5849\n",
            "Epoch 8/10\n",
            "1563/1563 [==============================] - 60s 39ms/step - loss: 1.1260 - accuracy: 0.6043\n",
            "Epoch 9/10\n",
            "1563/1563 [==============================] - 60s 38ms/step - loss: 1.0848 - accuracy: 0.6209\n",
            "Epoch 10/10\n",
            "1563/1563 [==============================] - 59s 38ms/step - loss: 1.0471 - accuracy: 0.6341\n"
          ]
        },
        {
          "output_type": "execute_result",
          "data": {
            "text/plain": [
              "<keras.callbacks.History at 0x7c68d2e3ffd0>"
            ]
          },
          "metadata": {},
          "execution_count": 97
        }
      ]
    },
    {
      "cell_type": "code",
      "source": [
        "y_pred= cnn.predict(x_test)\n",
        "y_pred"
      ],
      "metadata": {
        "colab": {
          "base_uri": "https://localhost:8080/"
        },
        "id": "YR5oPibvWrZ6",
        "outputId": "38205a26-5719-4678-fa41-fc6cb9ec92f2"
      },
      "execution_count": 98,
      "outputs": [
        {
          "output_type": "stream",
          "name": "stdout",
          "text": [
            "313/313 [==============================] - 5s 17ms/step\n"
          ]
        },
        {
          "output_type": "execute_result",
          "data": {
            "text/plain": [
              "array([[1.55807668e-02, 7.86850927e-04, 9.04467106e-02, ...,\n",
              "        2.07930012e-03, 1.33120995e-02, 8.53898295e-04],\n",
              "       [2.27219090e-01, 5.51051915e-01, 1.06012844e-03, ...,\n",
              "        4.20632241e-05, 1.97275385e-01, 2.27261130e-02],\n",
              "       [2.98489392e-01, 3.19019973e-01, 7.00252736e-03, ...,\n",
              "        1.70458481e-03, 2.52591014e-01, 1.13481171e-01],\n",
              "       ...,\n",
              "       [9.44524654e-05, 3.46930137e-05, 2.34724328e-01, ...,\n",
              "        9.57287569e-03, 2.50354438e-04, 4.44234058e-04],\n",
              "       [1.56177860e-02, 3.14613700e-01, 6.67515351e-03, ...,\n",
              "        3.53905978e-03, 9.87772015e-04, 6.40896894e-03],\n",
              "       [3.76300246e-04, 1.26992143e-03, 3.52877914e-03, ...,\n",
              "        8.54559362e-01, 2.01363018e-05, 8.31248180e-04]], dtype=float32)"
            ]
          },
          "metadata": {},
          "execution_count": 98
        }
      ]
    },
    {
      "cell_type": "code",
      "source": [
        "y_classes= [np.argmax(element) for element in y_pred]\n",
        "y_classes[:5]"
      ],
      "metadata": {
        "colab": {
          "base_uri": "https://localhost:8080/"
        },
        "id": "hX6VlSHNW1oU",
        "outputId": "f2675bd3-88d1-4e31-dd7b-8645d131870d"
      },
      "execution_count": 99,
      "outputs": [
        {
          "output_type": "execute_result",
          "data": {
            "text/plain": [
              "[3, 1, 1, 0, 4]"
            ]
          },
          "metadata": {},
          "execution_count": 99
        }
      ]
    },
    {
      "cell_type": "code",
      "source": [
        "y_test[:5]"
      ],
      "metadata": {
        "colab": {
          "base_uri": "https://localhost:8080/"
        },
        "id": "pH4miBu7XatM",
        "outputId": "61877a17-79de-4e9f-e73c-e121066dc2b8"
      },
      "execution_count": 104,
      "outputs": [
        {
          "output_type": "execute_result",
          "data": {
            "text/plain": [
              "array([3, 8, 8, 0, 6], dtype=uint8)"
            ]
          },
          "metadata": {},
          "execution_count": 104
        }
      ]
    },
    {
      "cell_type": "code",
      "source": [
        "classes[y_classes[3]]"
      ],
      "metadata": {
        "colab": {
          "base_uri": "https://localhost:8080/",
          "height": 35
        },
        "id": "TFXpDCgFW-SJ",
        "outputId": "a3177bea-acca-4a6a-c8cd-4e99c240e384"
      },
      "execution_count": 105,
      "outputs": [
        {
          "output_type": "execute_result",
          "data": {
            "text/plain": [
              "'airplane'"
            ],
            "application/vnd.google.colaboratory.intrinsic+json": {
              "type": "string"
            }
          },
          "metadata": {},
          "execution_count": 105
        }
      ]
    },
    {
      "cell_type": "code",
      "source": [
        "y_test= y_test.reshape(-1,)\n",
        "plot_sample(x_test, y_test, 3)"
      ],
      "metadata": {
        "colab": {
          "base_uri": "https://localhost:8080/",
          "height": 237
        },
        "id": "pNc9yH1AXKRZ",
        "outputId": "42482f6a-16cd-41d6-c436-7a47719e48c2"
      },
      "execution_count": 106,
      "outputs": [
        {
          "output_type": "display_data",
          "data": {
            "text/plain": [
              "<Figure size 1500x200 with 1 Axes>"
            ],
            "image/png": "[encoded data removed]"
          },
          "metadata": {}
        }
      ]
    },
    {
      "cell_type": "code",
      "source": [
        "print('classification_report:\\n', classification_report(y_test, y_classes))"
      ],
      "metadata": {
        "colab": {
          "base_uri": "https://localhost:8080/"
        },
        "id": "Lk_r2K5GXTWL",
        "outputId": "21fa4a23-494a-474c-8968-cec2acac13dd"
      },
      "execution_count": 107,
      "outputs": [
        {
          "output_type": "stream",
          "name": "stdout",
          "text": [
            "classification_report:\n",
            "               precision    recall  f1-score   support\n",
            "\n",
            "           0       0.68      0.70      0.69      1000\n",
            "           1       0.71      0.74      0.73      1000\n",
            "           2       0.48      0.55      0.52      1000\n",
            "           3       0.46      0.43      0.44      1000\n",
            "           4       0.58      0.51      0.54      1000\n",
            "           5       0.54      0.51      0.53      1000\n",
            "           6       0.69      0.72      0.70      1000\n",
            "           7       0.67      0.70      0.69      1000\n",
            "           8       0.82      0.63      0.72      1000\n",
            "           9       0.62      0.73      0.67      1000\n",
            "\n",
            "    accuracy                           0.62     10000\n",
            "   macro avg       0.63      0.62      0.62     10000\n",
            "weighted avg       0.63      0.62      0.62     10000\n",
            "\n"
          ]
        }
      ]
    },
    {
      "cell_type": "markdown",
      "source": [
        "##Using Optimizer Adam"
      ],
      "metadata": {
        "id": "OcuNXtX6cqBX"
      }
    },
    {
      "cell_type": "code",
      "source": [
        "cnn.compile(optimizer='adam',\n",
        "    loss='sparse_categorical_crossentropy',\n",
        "    metrics=['accuracy'])"
      ],
      "metadata": {
        "id": "7RQa7tD4Yyio"
      },
      "execution_count": 108,
      "outputs": []
    },
    {
      "cell_type": "code",
      "source": [
        "cnn.fit(x_train, y_train, epochs=10)"
      ],
      "metadata": {
        "colab": {
          "base_uri": "https://localhost:8080/"
        },
        "id": "IFUNq3ZTY089",
        "outputId": "d1befff8-33ea-47e2-c9d1-758726e97528"
      },
      "execution_count": 109,
      "outputs": [
        {
          "output_type": "stream",
          "name": "stdout",
          "text": [
            "Epoch 1/10\n",
            "1563/1563 [==============================] - 62s 38ms/step - loss: 1.0819 - accuracy: 0.6202\n",
            "Epoch 2/10\n",
            "1563/1563 [==============================] - 59s 38ms/step - loss: 0.9624 - accuracy: 0.6642\n",
            "Epoch 3/10\n",
            "1563/1563 [==============================] - 58s 37ms/step - loss: 0.8724 - accuracy: 0.6947\n",
            "Epoch 4/10\n",
            "1563/1563 [==============================] - 62s 39ms/step - loss: 0.8004 - accuracy: 0.7188\n",
            "Epoch 5/10\n",
            "1563/1563 [==============================] - 59s 38ms/step - loss: 0.7409 - accuracy: 0.7409\n",
            "Epoch 6/10\n",
            "1563/1563 [==============================] - 57s 37ms/step - loss: 0.6841 - accuracy: 0.7587\n",
            "Epoch 7/10\n",
            "1563/1563 [==============================] - 57s 37ms/step - loss: 0.6357 - accuracy: 0.7767\n",
            "Epoch 8/10\n",
            "1563/1563 [==============================] - 59s 38ms/step - loss: 0.5923 - accuracy: 0.7908\n",
            "Epoch 9/10\n",
            "1563/1563 [==============================] - 60s 38ms/step - loss: 0.5511 - accuracy: 0.8060\n",
            "Epoch 10/10\n",
            "1563/1563 [==============================] - 57s 37ms/step - loss: 0.5169 - accuracy: 0.8163\n"
          ]
        },
        {
          "output_type": "execute_result",
          "data": {
            "text/plain": [
              "<keras.callbacks.History at 0x7c68d15ebdc0>"
            ]
          },
          "metadata": {},
          "execution_count": 109
        }
      ]
    },
    {
      "cell_type": "code",
      "source": [
        "y_cnn_pred= cnn.predict(x_test)\n",
        "y_cnn_pred"
      ],
      "metadata": {
        "colab": {
          "base_uri": "https://localhost:8080/"
        },
        "id": "i1Qxg0RFbXZc",
        "outputId": "5752f2ef-004a-46bd-ae0a-f78b40aacdc3"
      },
      "execution_count": 111,
      "outputs": [
        {
          "output_type": "stream",
          "name": "stdout",
          "text": [
            "313/313 [==============================] - 5s 17ms/step\n"
          ]
        },
        {
          "output_type": "execute_result",
          "data": {
            "text/plain": [
              "array([[3.19733797e-03, 4.28558587e-06, 1.28171421e-04, ...,\n",
              "        3.72318791e-05, 3.44311033e-04, 1.90436222e-05],\n",
              "       [3.15473095e-04, 2.20117698e-04, 5.48444490e-08, ...,\n",
              "        3.29651056e-10, 9.99403596e-01, 6.05230780e-05],\n",
              "       [3.49291921e-01, 1.05102286e-01, 1.00413673e-02, ...,\n",
              "        8.70678108e-04, 5.24790764e-01, 7.79314991e-03],\n",
              "       ...,\n",
              "       [1.33366957e-05, 4.28131329e-07, 2.86201954e-01, ...,\n",
              "        1.35720354e-02, 3.52229176e-06, 2.23248826e-05],\n",
              "       [2.31659472e-01, 4.30835009e-01, 2.72317757e-05, ...,\n",
              "        3.05801426e-04, 1.58396506e-05, 8.10120837e-05],\n",
              "       [2.90532142e-07, 2.71789977e-05, 4.86281442e-06, ...,\n",
              "        9.73260760e-01, 1.84553556e-07, 6.27238876e-07]], dtype=float32)"
            ]
          },
          "metadata": {},
          "execution_count": 111
        }
      ]
    },
    {
      "cell_type": "code",
      "source": [
        "y_cnn_classes= [np.argmax(element) for element in y_cnn_pred]\n",
        "y_cnn_classes[:5]"
      ],
      "metadata": {
        "colab": {
          "base_uri": "https://localhost:8080/"
        },
        "id": "AI47nGGibjW7",
        "outputId": "20f9e82c-ac27-41f7-a025-628480181b5c"
      },
      "execution_count": 112,
      "outputs": [
        {
          "output_type": "execute_result",
          "data": {
            "text/plain": [
              "[3, 8, 8, 0, 4]"
            ]
          },
          "metadata": {},
          "execution_count": 112
        }
      ]
    },
    {
      "cell_type": "code",
      "source": [
        "y_test[:5]"
      ],
      "metadata": {
        "colab": {
          "base_uri": "https://localhost:8080/"
        },
        "id": "q2ahiCsabvpW",
        "outputId": "7a534479-8905-4fd8-d52d-e119bf0caf91"
      },
      "execution_count": 113,
      "outputs": [
        {
          "output_type": "execute_result",
          "data": {
            "text/plain": [
              "array([3, 8, 8, 0, 6], dtype=uint8)"
            ]
          },
          "metadata": {},
          "execution_count": 113
        }
      ]
    },
    {
      "cell_type": "code",
      "source": [
        "classes[y_cnn_classes[4]]"
      ],
      "metadata": {
        "colab": {
          "base_uri": "https://localhost:8080/",
          "height": 35
        },
        "id": "OfmFY62XbypH",
        "outputId": "8f547c22-b2a2-47cc-8c0e-c577e522cc61"
      },
      "execution_count": 114,
      "outputs": [
        {
          "output_type": "execute_result",
          "data": {
            "text/plain": [
              "'deer'"
            ],
            "application/vnd.google.colaboratory.intrinsic+json": {
              "type": "string"
            }
          },
          "metadata": {},
          "execution_count": 114
        }
      ]
    },
    {
      "cell_type": "code",
      "source": [
        "plot_sample(x_test, y_test, 4)"
      ],
      "metadata": {
        "colab": {
          "base_uri": "https://localhost:8080/",
          "height": 237
        },
        "id": "wAHzz-Xnb2Za",
        "outputId": "e7670efb-0387-4d93-f654-2224fc643b49"
      },
      "execution_count": 115,
      "outputs": [
        {
          "output_type": "display_data",
          "data": {
            "text/plain": [
              "<Figure size 1500x200 with 1 Axes>"
            ],
            "image/png": "[encoded data removed]"
          },
          "metadata": {}
        }
      ]
    },
    {
      "cell_type": "code",
      "source": [
        "cnn.evaluate(x_test, y_test)"
      ],
      "metadata": {
        "colab": {
          "base_uri": "https://localhost:8080/"
        },
        "id": "Dv3ETm9QcUR2",
        "outputId": "6f7ae94a-72b1-4a5a-e17b-51d215203c79"
      },
      "execution_count": 117,
      "outputs": [
        {
          "output_type": "stream",
          "name": "stdout",
          "text": [
            "313/313 [==============================] - 7s 22ms/step - loss: 1.0298 - accuracy: 0.6865\n"
          ]
        },
        {
          "output_type": "execute_result",
          "data": {
            "text/plain": [
              "[1.0298023223876953, 0.6865000128746033]"
            ]
          },
          "metadata": {},
          "execution_count": 117
        }
      ]
    },
    {
      "cell_type": "code",
      "source": [
        "print('classification_report:\\n', classification_report(y_test, y_cnn_classes))"
      ],
      "metadata": {
        "colab": {
          "base_uri": "https://localhost:8080/"
        },
        "id": "Uz01vuiXcAtc",
        "outputId": "350a59d1-1f8b-41bf-85d2-ee446dd7a6e2"
      },
      "execution_count": 116,
      "outputs": [
        {
          "output_type": "stream",
          "name": "stdout",
          "text": [
            "classification_report:\n",
            "               precision    recall  f1-score   support\n",
            "\n",
            "           0       0.69      0.77      0.73      1000\n",
            "           1       0.79      0.81      0.80      1000\n",
            "           2       0.62      0.52      0.56      1000\n",
            "           3       0.47      0.54      0.50      1000\n",
            "           4       0.65      0.61      0.63      1000\n",
            "           5       0.60      0.57      0.58      1000\n",
            "           6       0.73      0.77      0.75      1000\n",
            "           7       0.77      0.71      0.74      1000\n",
            "           8       0.78      0.82      0.80      1000\n",
            "           9       0.78      0.74      0.76      1000\n",
            "\n",
            "    accuracy                           0.69     10000\n",
            "   macro avg       0.69      0.69      0.69     10000\n",
            "weighted avg       0.69      0.69      0.69     10000\n",
            "\n"
          ]
        }
      ]
    }
  ]
}